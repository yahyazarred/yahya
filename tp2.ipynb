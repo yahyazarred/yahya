{
 "cells": [
  {
   "cell_type": "markdown",
   "id": "828b6732",
   "metadata": {},
   "source": [
    "<h1 style=\"text-align:center; color:skyblue\">TP2: les nombre avec python</h1>"
   ]
  },
  {
   "cell_type": "markdown",
   "id": "2d975e51",
   "metadata": {},
   "source": [
    "<img src=\"snake.jpg\" style=\"width:100px;height:100px;margin:auto\">"
   ]
  },
  {
   "cell_type": "markdown",
   "id": "c2492189",
   "metadata": {},
   "source": [
    "<h3 style=\"text-decoration:underline\">exercice 1 covertir siecle en seconde</h3>"
   ]
  },
  {
   "cell_type": "code",
   "execution_count": 1,
   "id": "6cdc4d8f",
   "metadata": {},
   "outputs": [
    {
     "name": "stdout",
     "output_type": "stream",
     "text": [
      "dans un siecle on a  3153600000 secondes\n"
     ]
    }
   ],
   "source": [
    "s=100*365*24*60*60\n",
    "print(\"dans un siecle on a \",s,\"secondes\")"
   ]
  },
  {
   "cell_type": "markdown",
   "id": "fd0a0b86",
   "metadata": {},
   "source": [
    "<h3 style=\"text-decoration:underline\">exercice 2</h3>"
   ]
  },
  {
   "cell_type": "code",
   "execution_count": 2,
   "id": "bbbe197a",
   "metadata": {},
   "outputs": [
    {
     "data": {
      "text/plain": [
       "'22'"
      ]
     },
     "execution_count": 2,
     "metadata": {},
     "output_type": "execute_result"
    }
   ],
   "source": [
    "input(\"donner un nbre en secondes\")"
   ]
  }
 ],
 "metadata": {
  "kernelspec": {
   "display_name": "Python 3",
   "language": "python",
   "name": "python3"
  },
  "language_info": {
   "codemirror_mode": {
    "name": "ipython",
    "version": 3
   },
   "file_extension": ".py",
   "mimetype": "text/x-python",
   "name": "python",
   "nbconvert_exporter": "python",
   "pygments_lexer": "ipython3",
   "version": "3.12.4"
  }
 },
 "nbformat": 4,
 "nbformat_minor": 5
}
